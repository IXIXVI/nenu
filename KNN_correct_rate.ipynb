{
 "cells": [
  {
   "cell_type": "code",
   "execution_count": 1,
   "metadata": {},
   "outputs": [],
   "source": [
    "import numpy as np\n",
    "import time"
   ]
  },
  {
   "cell_type": "code",
   "execution_count": 2,
   "metadata": {},
   "outputs": [],
   "source": [
    "start = time.time()\n",
    "num=10000#训练集样本数\n",
    "d1=100#测试集样本数\n",
    "d2=0#测试集样本中判断正确个数的初值\n",
    "K=5#KNN算法的K值\n",
    "X=[[0.3,0.7],[0.7,0.3]]#两正态分布的中心"
   ]
  },
  {
   "cell_type": "code",
   "execution_count": 3,
   "metadata": {},
   "outputs": [],
   "source": [
    "aa=np.zeros((num,3))\n",
    "#aa=[([0]*4) for i in range(num)]"
   ]
  },
  {
   "cell_type": "code",
   "execution_count": 4,
   "metadata": {},
   "outputs": [],
   "source": [
    "def I(c):\n",
    "    n=np.random.uniform()\n",
    "    if c<=n:\n",
    "        return 0\n",
    "    else:\n",
    "        return 1"
   ]
  },
  {
   "cell_type": "code",
   "execution_count": 5,
   "metadata": {},
   "outputs": [],
   "source": [
    "for i in range(0,int(0.6*num)):\n",
    "    #aa[i][0]=i+1\n",
    "    aa[i][0]=0\n",
    "    aa[i][1]=np.random.normal(0.3,np.sqrt(0.4))\n",
    "    aa[i][2]=np.random.normal(0.7,np.sqrt(0.4))\n",
    "\n",
    "for i in range(int(0.6*num),num):\n",
    "    #aa[i][0]=i+1\n",
    "    aa[i][0]=1\n",
    "    aa[i][1]=np.random.normal(0.7,np.sqrt(0.4))\n",
    "    aa[i][2]=np.random.normal(0.3,np.sqrt(0.4))"
   ]
  },
  {
   "cell_type": "code",
   "execution_count": 6,
   "metadata": {},
   "outputs": [],
   "source": [
    "#样本aa[i]的坐标用AA(i)表示\n",
    "def AA(i):\n",
    "    c=np.array([aa[i-1][1],aa[i-1][2]])\n",
    "    return c"
   ]
  },
  {
   "cell_type": "code",
   "execution_count": 7,
   "metadata": {},
   "outputs": [],
   "source": [
    "#定义欧氏距离运算\n",
    "def Dis(a,b):\n",
    "    c=np.sqrt(np.sum(np.square(a-b)))\n",
    "    return c"
   ]
  },
  {
   "cell_type": "code",
   "execution_count": 8,
   "metadata": {},
   "outputs": [],
   "source": [
    "def judge(x):\n",
    "    bb= [([0]*2) for i in range(num)]\n",
    "    for i in range(num):\n",
    "        #bb[i][0]=aa[i][0] 可记录序号\n",
    "        bb[i][0]=aa[i][0]\n",
    "        bb[i][1]=Dis(x,AA(i+1))\n",
    "    \n",
    "    #bb_dic=np.array(bb)\n",
    "\n",
    "    #i的范围决定两两比较循环多少次，从后往前两两比较（从最后一个数开始），一次循环会把当前最大的排到最后位，因此要得到最大的k位，只需从前向后遍历，并且i的range（0,k）\n",
    "    #此从后向向排序！\n",
    "    for i in range(K):\n",
    "         # j表示每次遍历需要比较的次数，逐渐减小，比上次少1\n",
    "        for j in range(len(bb)-1,i,-1):\n",
    "            if bb[j][1] < bb[j-1][1]:            \n",
    "                bb[j],bb[j-1]=bb[j-1],bb[j]\n",
    "                '''\n",
    "                旧的交换法则\n",
    "                temp = bb[j]\n",
    "                bb[j] = bb[j-1]\n",
    "                bb[j-1] = temp\n",
    "                '''\n",
    "    '''\n",
    "    给出从前向后排序(从第一个数开始)，即每次遍历，当前最大的会排到当前数组的后面\n",
    "    for i in range(K):\n",
    "        for j in range(0,len(bb)-1-i):\n",
    "            if bb[j] > bb[j+1]:            \n",
    "                bb[j],bb[j+1]=bb[j+1],bb[j]\n",
    "    '''\n",
    "\n",
    "    #return bb\n",
    "    a=sum(bb[:5][0])\n",
    "    #当5个最近邻中有2个以上的1时判定为1类\n",
    "    if a>2:\n",
    "        return 1\n",
    "    else:\n",
    "        return 0\n"
   ]
  },
  {
   "cell_type": "code",
   "execution_count": 9,
   "metadata": {},
   "outputs": [],
   "source": [
    "cc=np.zeros((d1,3))\n",
    "for i in range(d1):\n",
    "    #cc[i][0]=i+1#cc[i]的序号\n",
    "    cc[i][0]=I(0.4)#cc[i]的真实类\n",
    "    a=int(cc[i][0])\n",
    "    cc[i][1]=np.random.normal(X[a][0],np.sqrt(0.4))\n",
    "    cc[i][2]=np.random.normal(X[a][1],np.sqrt(0.4))"
   ]
  },
  {
   "cell_type": "code",
   "execution_count": 10,
   "metadata": {},
   "outputs": [],
   "source": [
    "def CC(i):\n",
    "    c=np.array([cc[i-1][1],cc[i-1][2]])\n",
    "    return c"
   ]
  },
  {
   "cell_type": "code",
   "execution_count": 11,
   "metadata": {},
   "outputs": [],
   "source": [
    "dd= [([0]) for i in range(d1)]"
   ]
  },
  {
   "cell_type": "code",
   "execution_count": 12,
   "metadata": {},
   "outputs": [],
   "source": [
    "for i in range (d1):\n",
    "    dd[i]=judge(CC(i))\n",
    "    if dd[i]==cc[i][0]:\n",
    "        d2+=1\n"
   ]
  },
  {
   "cell_type": "code",
   "execution_count": 13,
   "metadata": {},
   "outputs": [
    {
     "data": {
      "text/plain": [
       "0.59"
      ]
     },
     "execution_count": 13,
     "metadata": {},
     "output_type": "execute_result"
    }
   ],
   "source": [
    "#正确率\n",
    "d2/d1"
   ]
  },
  {
   "cell_type": "code",
   "execution_count": 14,
   "metadata": {},
   "outputs": [
    {
     "name": "stdout",
     "output_type": "stream",
     "text": [
      "time cost : 12.43782 sec\n"
     ]
    }
   ],
   "source": [
    "end = time.time()\n",
    "running_time = end-start\n",
    "print('time cost : %.5f sec' %running_time)"
   ]
  }
 ],
 "metadata": {
  "kernelspec": {
   "display_name": "Python 3",
   "language": "python",
   "name": "python3"
  },
  "language_info": {
   "codemirror_mode": {
    "name": "ipython",
    "version": 3
   },
   "file_extension": ".py",
   "mimetype": "text/x-python",
   "name": "python",
   "nbconvert_exporter": "python",
   "pygments_lexer": "ipython3",
   "version": "3.7.6"
  }
 },
 "nbformat": 4,
 "nbformat_minor": 2
}