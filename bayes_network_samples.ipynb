{
 "cells": [
  {
   "cell_type": "code",
   "execution_count": 1,
   "metadata": {},
   "outputs": [],
   "source": [
    "import numpy as np"
   ]
  },
  {
   "cell_type": "code",
   "execution_count": 2,
   "metadata": {},
   "outputs": [],
   "source": [
    "def I(n):#定义一个函数，将输入的数与函数内生成的随机数大小比较，返回0或1\n",
    "    a=np.random.uniform()\n",
    "    if n<=a :\n",
    "        return 0\n",
    "    else:\n",
    "        return 1"
   ]
  },
  {
   "cell_type": "code",
   "execution_count": 3,
   "metadata": {},
   "outputs": [],
   "source": [
    "data1=[[0.2,0.8],[0.7,0.9]]\n",
    "data2=[0.1,0.7]\n",
    "aa=np.zeros((10000,4),int)\n",
    "bb=np.array(data1)\n",
    "cc=np.array(data2)"
   ]
  },
  {
   "cell_type": "code",
   "execution_count": 4,
   "metadata": {},
   "outputs": [],
   "source": [
    "for i in range(0,10000):\n",
    "    aa[i][0]=I(0.7)\n",
    "    aa[i][1]=I(0.9)\n",
    "    aa[i][2]=I(bb[aa[i][0]][aa[i][1]])\n",
    "    aa[i][3]=I(cc[aa[i][2]])"
   ]
  },
  {
   "cell_type": "code",
   "execution_count": 5,
   "metadata": {},
   "outputs": [],
   "source": [
    "m=0\n",
    "for i in range(0,10000):\n",
    "    if aa[i][3]==1:\n",
    "        m=m+1\n"
   ]
  },
  {
   "cell_type": "code",
   "execution_count": 6,
   "metadata": {},
   "outputs": [
    {
     "output_type": "execute_result",
     "data": {
      "text/plain": "0.609"
     },
     "metadata": {},
     "execution_count": 6
    }
   ],
   "source": [
    "m/10000"
   ]
  }
 ],
 "metadata": {
  "kernelspec": {
   "display_name": "Python 3.6.9 64-bit",
   "language": "python",
   "name": "python36964bit7d50a3722d3845438cad960332efa4a9"
  },
  "language_info": {
   "codemirror_mode": {
    "name": "ipython",
    "version": 3
   },
   "file_extension": ".py",
   "mimetype": "text/x-python",
   "name": "python",
   "nbconvert_exporter": "python",
   "pygments_lexer": "ipython3",
   "version": "3.6.9-final"
  }
 },
 "nbformat": 4,
 "nbformat_minor": 2
}