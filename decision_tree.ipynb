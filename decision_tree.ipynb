{
 "metadata": {
  "language_info": {
   "codemirror_mode": {
    "name": "ipython",
    "version": 3
   },
   "file_extension": ".py",
   "mimetype": "text/x-python",
   "name": "python",
   "nbconvert_exporter": "python",
   "pygments_lexer": "ipython3",
   "version": "3.7.6-final"
  },
  "orig_nbformat": 2,
  "kernelspec": {
   "name": "python3",
   "display_name": "Python 3"
  }
 },
 "nbformat": 4,
 "nbformat_minor": 2,
 "cells": [
  {
   "cell_type": "code",
   "execution_count": 1,
   "metadata": {},
   "outputs": [],
   "source": [
    "import numpy as np\n",
    "from scipy.stats import truncnorm\n",
    "import time"
   ]
  },
  {
   "cell_type": "code",
   "execution_count": 2,
   "metadata": {},
   "outputs": [],
   "source": [
    "start = time.time()\n",
    "num=10000#训练集样本数\n",
    "d1=1000#测试集样本数\n",
    "d2=0#测试集样本中判断正确个数的初值\n",
    "d3=20#（0,1）间分为几份\n",
    "X=[[0.3,0.7],[0.7,0.3]]#两正态分布的中心"
   ]
  },
  {
   "cell_type": "code",
   "execution_count": null,
   "metadata": {},
   "outputs": [],
   "source": [
    "def entropy(x):"
   ]
  },
  {
   "cell_type": "code",
   "execution_count": 3,
   "metadata": {},
   "outputs": [],
   "source": [
    "#坐标转换\n",
    "def cf(i):\n",
    "    c=np.floor(i*d3)+1\n",
    "    #这里x1/x2都分为20类，否则需分类定义\n",
    "    return c"
   ]
  },
  {
   "cell_type": "code",
   "execution_count": 4,
   "metadata": {},
   "outputs": [],
   "source": [
    "#生成训练集\n",
    "aa=np.empty((num,3))\n",
    "for i in range(0,int(0.6*num)):\n",
    "    aa[i][0]=0\n",
    "    aa[i][1]=cf(np.random.normal(0.3,np.sqrt(0.4)))\n",
    "    aa[i][2]=cf(np.random.normal(0.7,np.sqrt(0.4)))\n",
    "\n",
    "for i in range(int(0.6*num),num):\n",
    "    aa[i][0]=1\n",
    "    aa[i][1]=cf(np.random.normal(0.7,np.sqrt(0.4)))\n",
    "    aa[i][2]=cf(np.random.normal(0.3,np.sqrt(0.4)))"
   ]
  },
  {
   "cell_type": "code",
   "execution_count": 5,
   "metadata": {},
   "outputs": [],
   "source": [
    "#截取0到1的压缩训练集数据，并将数据到这400个格子中\n",
    "#bb[j][k][0]表示第j行第k列中类0的数目，bb[j][k][1表示第j行第k列中类1的数目\n",
    "bb=np.empty((d3,d3,2))\n",
    "for i in range(num):\n",
    "    if aa[i][1]>0 and aa[i][1]<=d3 and aa[i][2]>0 and aa[i][2]<=d3 :\n",
    "        j=int(aa[i][1])-1\n",
    "        k=int(aa[i][2])-1\n",
    "        if aa[i][0]==0:\n",
    "            bb[j][k][0]+=1\n",
    "        else:\n",
    "            bb[j][k][1]+=1"
   ]
  },
  {
   "cell_type": "code",
   "execution_count": 6,
   "metadata": {},
   "outputs": [],
   "source": [
    "ee=np.empty((d3,d3))\n",
    "k=0\n",
    "for i in range(d3):\n",
    "    for j in range(d3): \n",
    "        if bb[i][j][0]>=bb[i][j][1]:\n",
    "            ee[i][j]=0\n",
    "            k+=1\n",
    "        else:\n",
    "            ee[i][j]=1"
   ]
  },
  {
   "cell_type": "code",
   "execution_count": 7,
   "metadata": {},
   "outputs": [],
   "source": [
    "def I(c):\n",
    "    n=np.random.uniform()\n",
    "    if c<=n:\n",
    "        return 0\n",
    "    else:\n",
    "        return 1"
   ]
  },
  {
   "cell_type": "code",
   "execution_count": 8,
   "metadata": {},
   "outputs": [],
   "source": [
    "#生成测试集\n",
    "cc=np.empty((d1,3),int)\n",
    "for i in range(d1):\n",
    "    #cc[i][0]=i+1#cc[i]的序号\n",
    "    cc[i][0]=I(0.4)#cc[i]的真实类\n",
    "    a=int(cc[i][0])\n",
    "    cc[i][1]=cf(np.random.normal(X[a][0],np.sqrt(0.4)))\n",
    "    cc[i][2]=cf(np.random.normal(X[a][1],np.sqrt(0.4)))"
   ]
  },
  {
   "cell_type": "code",
   "execution_count": 9,
   "metadata": {},
   "outputs": [],
   "source": [
    "#裁剪测试集\n",
    "dd=[]\n",
    "for i in range(d1):\n",
    "    if cc[i][1]>0 and cc[i][1]<=d3 and cc[i][2]>0 and cc[i][2]<=d3:\n",
    "        dd.append(cc[i])\n",
    "dd=np.array(dd,int)"
   ]
  }
 ]
}