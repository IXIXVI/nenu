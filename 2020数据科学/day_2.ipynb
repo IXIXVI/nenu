{
 "cells": [
  {
   "cell_type": "code",
   "execution_count": 22,
   "metadata": {},
   "outputs": [
    {
     "name": "stdout",
     "output_type": "stream",
     "text": [
      "5\n"
     ]
    }
   ],
   "source": [
    "import py_base as pb\n",
    "import numpy as np\n",
    "z = np.array([[1,2,3,4,5,6],[2,3,4,5,6,7]])\n",
    "x = np.array([1,2,3,4,5,6])\n",
    "#row,col=pb.SHAPE(z)\n",
    "print(pb.maxmin(x))\n",
    "#print(pb.arrange(12,15,0.5))"
   ]
  },
  {
   "cell_type": "code",
   "execution_count": 50,
   "metadata": {},
   "outputs": [
    {
     "name": "stdout",
     "output_type": "stream",
     "text": [
      "hello\n",
      "world\n",
      "xiaohong\n",
      "3\n",
      "34\n",
      "12\n",
      "0\n",
      "1\n",
      "2\n",
      "4\n",
      "5\n",
      "6\n",
      "7\n",
      "8\n",
      "9\n",
      "10\n"
     ]
    }
   ],
   "source": [
    "import numpy as np\n",
    "x = np.array([1,2,3,4,5,6])\n",
    "z = [[1,2,3,4,5,6],[2,3,4,5,6,7]]\n",
    "a = [1,2,\"heloworld\",[11,22]]\n",
    "a = np.array(a)\n",
    "a[2]=[1122,22]\n",
    "a\n",
    "x.dtype\n",
    "x = [1,2,3]\n",
    "y = [4,5]\n",
    "x.extend(y)\n",
    "x = np.array(x)\n",
    "#x[1:4]\n",
    "x = ['hello','world','xiaohong',3,'34',12]\n",
    "for i in x:\n",
    "    print(i)\n",
    "i = 0\n",
    "while i<=10:\n",
    "    if i==3:\n",
    "        i = i + 1\n",
    "        continue\n",
    "    print(i)\n",
    "    i = i + 1\n",
    "i=2"
   ]
  },
  {
   "cell_type": "code",
   "execution_count": 24,
   "metadata": {},
   "outputs": [
    {
     "data": {
      "text/plain": [
       "[1, 2, 3, 4, 5, 4, 5]"
      ]
     },
     "execution_count": 24,
     "metadata": {},
     "output_type": "execute_result"
    }
   ],
   "source": [
    "for i in y:\n",
    "    x.append(i)\n",
    "x"
   ]
  }
 ],
 "metadata": {
  "kernelspec": {
   "display_name": "Python 3",
   "language": "python",
   "name": "python3"
  },
  "language_info": {
   "codemirror_mode": {
    "name": "ipython",
    "version": 3
   },
   "file_extension": ".py",
   "mimetype": "text/x-python",
   "name": "python",
   "nbconvert_exporter": "python",
   "pygments_lexer": "ipython3",
   "version": "3.7.4"
  }
 },
 "nbformat": 4,
 "nbformat_minor": 2
}
