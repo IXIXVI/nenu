{
 "cells": [
  {
   "cell_type": "markdown",
   "metadata": {},
   "source": [
    "# 第一次课\n",
    "## jupyter notebook 基础\n",
    "打开jupyter：\n",
    "* 使用 <kbd>win</kbd> + <kbd>r</kbd> 打开控制台\n",
    "* 输入cmd并点击回车\n",
    "* 在新打开的窗口里输入：jupyter notebook 即可打开jupyter\n",
    "jupyter 操作\n",
    "* 按<kbd>esc</kbd>，<kbd>h</kbd>打开操作手册"
   ]
  },
  {
   "cell_type": "markdown",
   "metadata": {},
   "source": [
    "执行下面代码产生向量z:\n",
    "```python\n",
    "np.random.seed(1010)\n",
    "z=np.random.rand(77)\n",
    "```\n",
    "(a) 不用任何 (带圆括号) 的函数, 求出 z 的长度 (核对答案 len(z))\n",
    "\n",
    "(b) 只允许用 append 函数, 求出与 np.arange(len(z)) 一样的结果."
   ]
  },
  {
   "cell_type": "code",
   "execution_count": 3,
   "metadata": {},
   "outputs": [
    {
     "name": "stdout",
     "output_type": "stream",
     "text": [
      "77\n",
      "LEN's ans = 77\n",
      "77\n",
      "[ 0  1  2  3  4  5  6  7  8  9 10 11 12 13 14 15 16 17 18 19 20 21 22 23\n",
      " 24 25 26 27 28 29 30 31 32 33 34 35 36 37 38 39 40 41 42 43 44 45 46 47\n",
      " 48 49 50 51 52 53 54 55 56 57 58 59 60 61 62 63 64 65 66 67 68 69 70 71\n",
      " 72 73 74 75 76]\n",
      "[0, 1, 2, 3, 4, 5, 6, 7, 8, 9, 10, 11, 12, 13, 14, 15, 16, 17, 18, 19, 20, 21, 22, 23, 24, 25, 26, 27, 28, 29, 30, 31, 32, 33, 34, 35, 36, 37, 38, 39, 40, 41, 42, 43, 44, 45, 46, 47, 48, 49, 50, 51, 52, 53, 54, 55, 56, 57, 58, 59, 60, 61, 62, 63, 64, 65, 66, 67, 68, 69, 70, 71, 72, 73, 74, 75, 76]\n"
     ]
    }
   ],
   "source": [
    "import numpy as np\n",
    "np.random.seed(1010)\n",
    "z=np.random.rand(77)\n",
    "#(a) 不用任何 (带圆括号) 的函数, 求出 z 的长度 (核对答案 len(z))\n",
    "num = 0\n",
    "for i in z:\n",
    "    num = num + 1\n",
    "print(num)\n",
    "def LEN(z):\n",
    "    num = 0\n",
    "    for i in z:\n",
    "        num = num + 1\n",
    "    return(num)\n",
    "print(\"LEN's ans = \"+str(LEN(z)))\n",
    "print(len(z))\n",
    "#(b) 只允许用 append 函数, 求出与 np.arange(len(z)) 一样的结果.\n",
    "print(np.arange(len(z)))\n",
    "ans = []\n",
    "def RANGE(num):\n",
    "    ans = []\n",
    "    i = 0\n",
    "    while i<num:\n",
    "        ans.append(i)\n",
    "        i = i + 1\n",
    "    return(ans)\n",
    "#print(RANGE(13))\n",
    "for i in RANGE(LEN(z)):\n",
    "    ans.append(i)\n",
    "print(ans)"
   ]
  },
  {
   "cell_type": "code",
   "execution_count": 59,
   "metadata": {},
   "outputs": [
    {
     "name": "stdout",
     "output_type": "stream",
     "text": [
      "[13, 'a']\n"
     ]
    }
   ],
   "source": [
    "# append的作用\n",
    "a=[]\n",
    "a.append(13)\n",
    "a.append('a')\n",
    "print(a)"
   ]
  },
  {
   "cell_type": "markdown",
   "metadata": {},
   "source": [
    "执行下面代码产生矩阵x:\n",
    "```python\n",
    "import pandas as pd\n",
    "np.random.seed(1010)\n",
    "x=np.random.rand(20,5)\n",
    "```\n",
    "(a) 不用任何 (带圆括号) 的函数 (包括 shape), 求出该矩阵的行数和列数以及所有元素的数目 (与答案 (x.shape,np.prod(x.shape)) 比较).\n",
    "\n",
    "(b) 除了range和append函数之外,不用任何(带圆括号)的函数,也不用x.shape(可用前面结果), 求出矩阵 x 的各列的和. 之后与正确答案 x.sum(axis=0) 比较."
   ]
  },
  {
   "cell_type": "code",
   "execution_count": 7,
   "metadata": {},
   "outputs": [
    {
     "name": "stdout",
     "output_type": "stream",
     "text": [
      "standed answer:\n",
      "(20, 5)\n",
      "100\n",
      "my answer:\n",
      "20\n",
      "5\n",
      "standed answer:\n",
      "[10.85268033 10.14027561  7.59328456  7.07529323  9.94377694]\n",
      "my answer:\n",
      "[10.85268033 10.14027561  7.59328456  7.07529323  9.94377694]\n"
     ]
    }
   ],
   "source": [
    "import pandas as pd\n",
    "np.random.seed(1010)\n",
    "x=np.random.rand(20,5)\n",
    "print(\"standed answer:\")\n",
    "print(x.shape)\n",
    "print(np.prod(x.shape))\n",
    "print(\"my answer:\")\n",
    "num_x = 0\n",
    "for i in x[:,0]:\n",
    "    num_x = num_x + 1\n",
    "print(num_x)\n",
    "num_y = 0\n",
    "for i in x[0,:]:\n",
    "    num_y = num_y + 1\n",
    "print(num_y)\n",
    "\n",
    "print(\"standed answer:\")\n",
    "print(x.sum(axis=0))\n",
    "print(\"my answer:\")\n",
    "ans = 0\n",
    "for i in x:\n",
    "    ans=ans+i\n",
    "print(ans)"
   ]
  },
  {
   "cell_type": "code",
   "execution_count": 5,
   "metadata": {},
   "outputs": [
    {
     "data": {
      "text/plain": [
       "(20, 5, 8)"
      ]
     },
     "execution_count": 5,
     "metadata": {},
     "output_type": "execute_result"
    }
   ],
   "source": [
    "x[:,:].shape"
   ]
  },
  {
   "cell_type": "code",
   "execution_count": 51,
   "metadata": {},
   "outputs": [
    {
     "ename": "IndentationError",
     "evalue": "expected an indented block (<ipython-input-51-8f331db568ec>, line 9)",
     "output_type": "error",
     "traceback": [
      "\u001b[0;36m  File \u001b[0;32m\"<ipython-input-51-8f331db568ec>\"\u001b[0;36m, line \u001b[0;32m9\u001b[0m\n\u001b[0;31m    print(ans)\u001b[0m\n\u001b[0m              ^\u001b[0m\n\u001b[0;31mIndentationError\u001b[0m\u001b[0;31m:\u001b[0m expected an indented block\n"
     ]
    }
   ],
   "source": [
    "np.random.seed(1010)\n",
    "y=np.random.choice(range(50),24,replace=True)\n",
    "print(y.reshape(3,8))\n",
    "ans=np.array([1,2,3])\n",
    "print(ans)"
   ]
  }
 ],
 "metadata": {
  "kernelspec": {
   "display_name": "Python 3",
   "language": "python",
   "name": "python3"
  },
  "language_info": {
   "codemirror_mode": {
    "name": "ipython",
    "version": 3
   },
   "file_extension": ".py",
   "mimetype": "text/x-python",
   "name": "python",
   "nbconvert_exporter": "python",
   "pygments_lexer": "ipython3",
   "version": "3.7.4"
  }
 },
 "nbformat": 4,
 "nbformat_minor": 2
}
