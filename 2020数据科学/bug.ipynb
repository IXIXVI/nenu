{
 "cells": [
  {
   "cell_type": "markdown",
   "metadata": {},
   "source": [
    "## part1\n",
    "本部分包含一些错误，正常输出结果为：\n",
    "24\n",
    "now i is not 3，i is 4\n",
    "now i is not 3，i is 5\n",
    "now i is not 3，i is 6\n",
    "now i is not 3，i is 7\n",
    "now i is not 3，i is 8\n",
    "now i is not 3，i is 9\n",
    "now i is not 3，i is 10"
   ]
  },
  {
   "cell_type": "code",
   "execution_count": null,
   "metadata": {},
   "outputs": [],
   "source": [
    "ans = 0\n",
    "#这里用了全角引号，改为半角\n",
    "for i in Range(12):\n",
    "    if ans == 12:\n",
    "        print(ans+i)\n",
    "    ans = ans + i\n",
    "while i<=10:\n",
    "    if i ! = 3:\n",
    "        print(\"now i is not 3，i is'，i)\n",
    "        contiue\n",
    "   i += 1\n",
    "print（ans1）"
   ]
  }
 ],
 "metadata": {
  "kernelspec": {
   "display_name": "Python 3",
   "language": "python",
   "name": "python3"
  },
  "language_info": {
   "codemirror_mode": {
    "name": "ipython",
    "version": 3
   },
   "file_extension": ".py",
   "mimetype": "text/x-python",
   "name": "python",
   "nbconvert_exporter": "python",
   "pygments_lexer": "ipython3",
   "version": "3.7.4"
  }
 },
 "nbformat": 4,
 "nbformat_minor": 2
}