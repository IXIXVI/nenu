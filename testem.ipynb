{
 "metadata": {
  "language_info": {
   "codemirror_mode": {
    "name": "ipython",
    "version": 3
   },
   "file_extension": ".py",
   "mimetype": "text/x-python",
   "name": "python",
   "nbconvert_exporter": "python",
   "pygments_lexer": "ipython3",
   "version": "3.8.5"
  },
  "orig_nbformat": 2,
  "kernelspec": {
   "name": "python3",
   "display_name": "Python 3",
   "language": "python"
  }
 },
 "nbformat": 4,
 "nbformat_minor": 2,
 "cells": [
  {
   "cell_type": "code",
   "execution_count": 1,
   "metadata": {},
   "outputs": [],
   "source": [
    "import numpy as np\n",
    "\n",
    "\n",
    "class GMM(object):\n",
    "    \"\"\"Gaussian Mixture Model \n",
    "    \"\"\"\n",
    "\n",
    "    def __init__(self, data, K):\n",
    "        \"\"\"\n",
    "        K: the number of gaussian models\n",
    "        alpha: the weight for corresponding gaussian model\n",
    "        mu: the vector of means\n",
    "        sigma2: the vector of variances\n",
    "        N: the number of samples\n",
    "        K: the number of gaussian models\n",
    "        \"\"\"\n",
    "\n",
    "        self.data = data\n",
    "        self.K = K\n",
    "        self.alpha = (np.ones(K) / K)\n",
    "        self.mu = (np.arange(K) - K // 2) * (data.max() - data.min()) / K\n",
    "        self.sigma2 = (np.ones(K))\n",
    "        self.N = len(data)\n",
    "        self.gamma = np.ones((self.N, K)) / K\n",
    "\n",
    "    def phi(self):\n",
    "        # phi.shape(K, N)\n",
    "        phi = (1 / np.sqrt(2 * np.pi * self.sigma2.reshape(self.K, 1)) * np.exp(- (self.data - self.mu.reshape(self.K, 1)) ** 2 / (2 * self.sigma2.reshape(self.K, 1))))\n",
    "        return phi\n",
    "\n",
    "    def fit(self):\n",
    "        sigma2_ = self.sigma2\n",
    "        mu_ = self.mu\n",
    "        while True:\n",
    "            # gamma.shape(N, K)\n",
    "            self.gamma = (0.1 * self.gamma + 0.9 * self.phi().T * self.alpha / (self.phi().T * self.alpha).sum(axis=1).reshape(self.N, 1))\n",
    "            # mu.shape(1, K)\n",
    "            self.mu = (0.1 * self.mu + 0.9 * np.matmul(self.data, self.gamma) / self.gamma.sum(axis=0))\n",
    "            # sigma2.shape(1,K)\n",
    "            self.sigma2 = (0.1 * self.sigma2 + 0.9 * (self.gamma * (data.reshape(self.N, 1) - self.mu) ** 2).sum(axis=0) / self.gamma.sum(axis=0))\n",
    "            # alpha.shape(1, K)\n",
    "            self.alpha = (0.1 * self.alpha + 0.9 * self.gamma.sum(axis=0) / self.N)\n",
    "            if (np.sum((self.mu - mu_) ** 2) + np.abs(self.sigma2 - sigma2_).sum()) < 10 ** (-10):\n",
    "                break\n",
    "\n",
    "            mu_ = self.mu\n",
    "            sigma2_ = self.sigma2\n",
    "            print(self.gamma.argmax(axis=1))\n",
    "\n",
    "        return self.gamma.argmax(axis=1)\n",
    "\n",
    "\n"
   ]
  },
  {
   "cell_type": "code",
   "execution_count": 2,
   "metadata": {},
   "outputs": [
    {
     "output_type": "stream",
     "name": "stdout",
     "text": [
      "[1 1 0 ... 1 1 1]\n[0 0 0 ... 1 1 1]\n[0 0 0 ... 1 1 1]\n[0 0 0 ... 1 1 1]\n[0 0 0 ... 1 1 1]\n[0 0 0 ... 1 1 1]\n[0 0 0 ... 1 1 1]\n[0 0 0 ... 1 1 1]\n[0 0 0 ... 1 1 1]\n[0 0 0 ... 1 1 1]\n[0 0 0 ... 1 1 1]\n[0 0 0 ... 1 1 1]\n[0 0 0 ... 1 1 1]\n[0 0 0 ... 1 1 1]\n[0 0 0 ... 1 1 1]\n[0 0 0 ... 1 1 1]\n[0 0 0 ... 1 1 1]\n"
     ]
    }
   ],
   "source": [
    "data = np.concatenate((np.random.normal(-4, 1, 2000), np.random.normal(4, 1, 2000)))\n",
    "gmm = GMM(data, 2)\n",
    "label = gmm.fit()"
   ]
  },
  {
   "cell_type": "code",
   "execution_count": null,
   "metadata": {},
   "outputs": [],
   "source": [
    "iris = load_iris()\n",
    "label = np.array(iris.target)\n",
    "data = np.array(iris.data)\n",
    "data = Normalizer().fit_transform(data)\n",
    "mpl.rcParams['font.sans-serif'] = [u'simHei']\n",
    "mpl.rcParams['axes.unicode_minus'] = False\n",
    "plt.scatter(data[:,0],data[:,1],c = label)\n",
    "plt.title(\"Iris数据集显示\")\n",
    "plt.show()"
   ]
  }
 ]
}